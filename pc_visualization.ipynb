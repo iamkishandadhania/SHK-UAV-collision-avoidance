{
 "cells": [
  {
   "attachments": {},
   "cell_type": "markdown",
   "metadata": {},
   "source": [
    "# Point Cloud Visualization\n",
    "\n",
    "![Status](https://img.shields.io/static/v1.svg?label=Status&message=Finished&color=green)\n",
    "\n",
    "**Code:** \n",
    "[![View on Github](https://img.shields.io/static/v1.svg?logo=github&label=Repo&message=View%20On%20Github&color=lightgrey)](https://github.com/LightsCameraVision/Point-Cloud-Visualization)\n",
    "   \n",
    "**Video Tutorial:** \n",
    "[![YouTube](https://img.shields.io/static/v1.svg?logo=youtube&label=YouTube&message=Point%20Cloud%20Visualization&color=red)](https://youtu.be/VpyJy0DnWHE)   \n",
    "**Author:** [Light, Camera, Vision!](https://www.youtube.com/c/LightsCameraVision)"
   ]
  },
  {
   "attachments": {},
   "cell_type": "markdown",
   "metadata": {},
   "source": [
    "## Intro\n",
    "In this turorial, we learn the easy ways to visualize several different point cloud file formats that are commonly used to store point cloud-type information using two very popular python packages ([Open3D](http://www.open3d.org/) & [pptk - Point Processing Toolkit](https://github.com/heremaps/pptk))."
   ]
  },
  {
   "attachments": {},
   "cell_type": "markdown",
   "metadata": {},
   "source": [
    "* The list of file formats covered here is below, with references to the popular datasets they are found in.\n",
    "  - ply (Toronto3D)\n",
    "  - pcd (Trimble, Toyota PCD datasets)\n",
    "  - npz, npy (ScanNet, ShapeNet, Sun RGB-D, A2D2-Audi Autonomous Driving Dataset)\n",
    "  - hdf5 (ModelNet-C, ShapeNet-C, ScanObjectNN)\n",
    "  - binary (KITTI)\n",
    "  - las, laz (USGS 3DEP)\n",
    "  - txt (ModelNet40, Semantic3D)"
   ]
  },
  {
   "cell_type": "code",
   "execution_count": 7,
   "metadata": {},
   "outputs": [
    {
     "name": "stdout",
     "output_type": "stream",
     "text": [
      "3.11.0\n"
     ]
    }
   ],
   "source": [
    "from platform import python_version\n",
    "\n",
    "print(python_version())"
   ]
  },
  {
   "cell_type": "code",
   "execution_count": 8,
   "metadata": {},
   "outputs": [
    {
     "ename": "ModuleNotFoundError",
     "evalue": "No module named 'open3d'",
     "output_type": "error",
     "traceback": [
      "\u001b[1;31m---------------------------------------------------------------------------\u001b[0m",
      "\u001b[1;31mModuleNotFoundError\u001b[0m                       Traceback (most recent call last)",
      "Cell \u001b[1;32mIn[8], line 6\u001b[0m\n\u001b[0;32m      4\u001b[0m \u001b[39mimport\u001b[39;00m \u001b[39mh5py\u001b[39;00m\n\u001b[0;32m      5\u001b[0m \u001b[39m# Visualization\u001b[39;00m\n\u001b[1;32m----> 6\u001b[0m \u001b[39mimport\u001b[39;00m \u001b[39mopen3d\u001b[39;00m \u001b[39mas\u001b[39;00m \u001b[39mo3d\u001b[39;00m\n\u001b[0;32m      7\u001b[0m \u001b[39mimport\u001b[39;00m \u001b[39mpptk\u001b[39;00m \u001b[39m# works with Python 3.6\u001b[39;00m\n",
      "\u001b[1;31mModuleNotFoundError\u001b[0m: No module named 'open3d'"
     ]
    }
   ],
   "source": [
    "# Data read & write\n",
    "import numpy as np\n",
    "import laspy\n",
    "import h5py\n",
    "# Visualization\n",
    "import open3d as o3d\n",
    "import pptk # works with Python 3.6"
   ]
  },
  {
   "attachments": {},
   "cell_type": "markdown",
   "metadata": {},
   "source": [
    "### Format: ply | Package: Open3D"
   ]
  },
  {
   "cell_type": "code",
   "execution_count": null,
   "metadata": {},
   "outputs": [
    {
     "name": "stdout",
     "output_type": "stream",
     "text": [
      "PLY file loaded\n"
     ]
    }
   ],
   "source": [
    "# Load ply file\n",
    "pc_ply = o3d.io.read_point_cloud(\"./data/fragment.ply\")\n",
    "print('PLY file loaded')"
   ]
  },
  {
   "cell_type": "code",
   "execution_count": null,
   "metadata": {},
   "outputs": [
    {
     "name": "stdout",
     "output_type": "stream",
     "text": [
      "['HalfEdgeTriangleMesh', 'Image', 'LineSet', 'PointCloud', 'RGBDImage', 'TetraMesh', 'TriangleMesh', 'Type', 'Unspecified', 'VoxelGrid', '__add__', '__class__', '__copy__', '__deepcopy__', '__delattr__', '__dir__', '__doc__', '__eq__', '__format__', '__ge__', '__getattribute__', '__gt__', '__hash__', '__iadd__', '__init__', '__init_subclass__', '__le__', '__lt__', '__module__', '__ne__', '__new__', '__reduce__', '__reduce_ex__', '__repr__', '__setattr__', '__sizeof__', '__str__', '__subclasshook__', 'clear', 'cluster_dbscan', 'colors', 'compute_convex_hull', 'compute_mahalanobis_distance', 'compute_mean_and_covariance', 'compute_nearest_neighbor_distance', 'compute_point_cloud_distance', 'covariances', 'create_from_depth_image', 'create_from_rgbd_image', 'crop', 'dimension', 'estimate_covariances', 'estimate_normals', 'estimate_point_covariances', 'get_axis_aligned_bounding_box', 'get_center', 'get_geometry_type', 'get_max_bound', 'get_min_bound', 'get_oriented_bounding_box', 'get_rotation_matrix_from_axis_angle', 'get_rotation_matrix_from_quaternion', 'get_rotation_matrix_from_xyz', 'get_rotation_matrix_from_xzy', 'get_rotation_matrix_from_yxz', 'get_rotation_matrix_from_yzx', 'get_rotation_matrix_from_zxy', 'get_rotation_matrix_from_zyx', 'has_colors', 'has_covariances', 'has_normals', 'has_points', 'hidden_point_removal', 'is_empty', 'normalize_normals', 'normals', 'orient_normals_consistent_tangent_plane', 'orient_normals_to_align_with_direction', 'orient_normals_towards_camera_location', 'paint_uniform_color', 'points', 'random_down_sample', 'remove_non_finite_points', 'remove_radius_outlier', 'remove_statistical_outlier', 'rotate', 'scale', 'segment_plane', 'select_by_index', 'transform', 'translate', 'uniform_down_sample', 'voxel_down_sample', 'voxel_down_sample_and_trace']\n"
     ]
    }
   ],
   "source": [
    "# PLY file info\n",
    "print(dir(pc_ply))"
   ]
  },
  {
   "cell_type": "code",
   "execution_count": null,
   "metadata": {},
   "outputs": [
    {
     "name": "stdout",
     "output_type": "stream",
     "text": [
      "Shape of points (196133, 3)\n",
      "Shape of colors (196133, 3)\n"
     ]
    }
   ],
   "source": [
    "print('Shape of points', np.asarray(pc_ply.points).shape)\n",
    "print('Shape of colors', np.asarray(pc_ply.colors).shape)"
   ]
  },
  {
   "cell_type": "code",
   "execution_count": null,
   "metadata": {},
   "outputs": [],
   "source": [
    "# visualization\n",
    "o3d.visualization.draw_geometries([pc_ply])\n",
    "# Capture \n",
    "# o3d.visualization.Visualizer.capture_screen_image('screenshot.png')"
   ]
  },
  {
   "attachments": {},
   "cell_type": "markdown",
   "metadata": {},
   "source": [
    "### Format: pcd | Package: Open3D"
   ]
  },
  {
   "cell_type": "code",
   "execution_count": null,
   "metadata": {},
   "outputs": [
    {
     "name": "stdout",
     "output_type": "stream",
     "text": [
      "PointCloud with 1366408 points.\n",
      "Shape of points (1366408, 3)\n",
      "Shape of colors (0, 3)\n"
     ]
    }
   ],
   "source": [
    "# Load pcd file\n",
    "pc_pcd = o3d.io.read_point_cloud(\"./data/pcl_CSite1_orig-utm.pcd\")\n",
    "# Point Cloud info\n",
    "print(pc_pcd)\n",
    "print('Shape of points', np.asarray(pc_pcd.points).shape)\n",
    "print('Shape of colors', np.asarray(pc_pcd.colors).shape) # no color data"
   ]
  },
  {
   "cell_type": "code",
   "execution_count": null,
   "metadata": {},
   "outputs": [],
   "source": [
    "# visualization\n",
    "o3d.visualization.draw_geometries([pc_pcd])"
   ]
  },
  {
   "attachments": {},
   "cell_type": "markdown",
   "metadata": {},
   "source": [
    "### Format: numpy | Package: Open3D"
   ]
  },
  {
   "cell_type": "code",
   "execution_count": null,
   "metadata": {},
   "outputs": [
    {
     "name": "stdout",
     "output_type": "stream",
     "text": [
      "Shape of the Point Cloud: (8192, 3)\n"
     ]
    }
   ],
   "source": [
    "pc_np = np.load('./data/shapenet_04554684-fcc0bdba1a95be2546cde67a6a1ea328.npy')\n",
    "print('Shape of the Point Cloud:', pc_np.shape)\n",
    "# Create PointCloud class\n",
    "pc = o3d.geometry.PointCloud()\n",
    "pc.points = o3d.utility.Vector3dVector(pc_np)"
   ]
  },
  {
   "cell_type": "code",
   "execution_count": null,
   "metadata": {},
   "outputs": [],
   "source": [
    "# visualization\n",
    "o3d.visualization.draw_geometries([pc])"
   ]
  },
  {
   "attachments": {},
   "cell_type": "markdown",
   "metadata": {},
   "source": [
    "### Format: las & laz | Package: PPTK"
   ]
  },
  {
   "cell_type": "code",
   "execution_count": null,
   "metadata": {},
   "outputs": [
    {
     "name": "stdout",
     "output_type": "stream",
     "text": [
      "<LasData(1.3, point fmt: <PointFormat(1, 0 bytes of extra dims)>, 10683 points, 0 vlrs)>\n"
     ]
    }
   ],
   "source": [
    "point_cloud = laspy.read('./data/vegetation_1_3.las')\n",
    "print(point_cloud)"
   ]
  },
  {
   "cell_type": "code",
   "execution_count": null,
   "metadata": {},
   "outputs": [
    {
     "data": {
      "text/plain": [
       "['X',\n",
       " 'Y',\n",
       " 'Z',\n",
       " 'intensity',\n",
       " 'return_number',\n",
       " 'number_of_returns',\n",
       " 'scan_direction_flag',\n",
       " 'edge_of_flight_line',\n",
       " 'classification',\n",
       " 'synthetic',\n",
       " 'key_point',\n",
       " 'withheld',\n",
       " 'scan_angle_rank',\n",
       " 'user_data',\n",
       " 'point_source_id',\n",
       " 'gps_time']"
      ]
     },
     "execution_count": 12,
     "metadata": {},
     "output_type": "execute_result"
    }
   ],
   "source": [
    "## lists column names in las file.\n",
    "point_format = point_cloud.point_format\n",
    "list(point_format.dimension_names)"
   ]
  },
  {
   "cell_type": "code",
   "execution_count": null,
   "metadata": {},
   "outputs": [
    {
     "name": "stdout",
     "output_type": "stream",
     "text": [
      "(10683, 3)\n"
     ]
    }
   ],
   "source": [
    "# preparation for visualization\n",
    "points = np.vstack((point_cloud.x, point_cloud.y, point_cloud.z)).transpose()\n",
    "print(points.shape)"
   ]
  },
  {
   "cell_type": "code",
   "execution_count": null,
   "metadata": {},
   "outputs": [],
   "source": [
    "vis = pptk.viewer(points) # Start the interactive visualization"
   ]
  },
  {
   "cell_type": "code",
   "execution_count": null,
   "metadata": {},
   "outputs": [],
   "source": [
    "## (Optional)\n",
    "vis.attributes(point_cloud.intensity) # Loads point attributes (intensity) to color the points\n",
    "# a few auxiliary property\n",
    "vis.set(point_size=0.01)\n",
    "vis.set(bg_color=[0, 0, 0, 1])\n",
    "vis.set(show_grid=False)\n",
    "vis.set(show_axis=False)\n",
    "# set color map to gray\n",
    "vis.color_map('spring') # Options: 'jet' (default), 'hsv', 'hot', 'cool', 'spring', 'summer', 'autumn', 'winter', 'gray'"
   ]
  },
  {
   "cell_type": "code",
   "execution_count": null,
   "metadata": {},
   "outputs": [],
   "source": [
    "# # takes a screenshot of current view\n",
    "vis.capture('screenshot_las.png')"
   ]
  },
  {
   "cell_type": "code",
   "execution_count": null,
   "metadata": {},
   "outputs": [
    {
     "name": "stdout",
     "output_type": "stream",
     "text": [
      "Shape of Point Cloud: (28185, 3)\n"
     ]
    }
   ],
   "source": [
    "## Load LAZ file\n",
    "pc_laz = laspy.read('./data/plane.laz')\n",
    "\n",
    "# preparation for visualization\n",
    "points = np.vstack((pc_laz.x, pc_laz.y, pc_laz.z)).transpose()\n",
    "print('Shape of Point Cloud:', points.shape)"
   ]
  },
  {
   "cell_type": "code",
   "execution_count": null,
   "metadata": {},
   "outputs": [],
   "source": [
    "vis = pptk.viewer(points) # Start the interactive visualization"
   ]
  },
  {
   "attachments": {},
   "cell_type": "markdown",
   "metadata": {},
   "source": [
    "### Format: h5 | Package: PPTK"
   ]
  },
  {
   "cell_type": "code",
   "execution_count": null,
   "metadata": {},
   "outputs": [],
   "source": [
    "pc_h5 = h5py.File('./data/Scanobjectnn_sample.h5', 'r')\n",
    "point_clouds = np.array(pc_h5['data'])\n",
    "labels = np.array(pc_h5['label'])"
   ]
  },
  {
   "cell_type": "code",
   "execution_count": null,
   "metadata": {},
   "outputs": [
    {
     "name": "stdout",
     "output_type": "stream",
     "text": [
      "Size of Point Clouds: (2, 2048, 3)\n",
      "labels: [ 4 12]\n"
     ]
    }
   ],
   "source": [
    "print('Size of Point Clouds:', point_clouds.shape)\n",
    "print('labels:', labels)"
   ]
  },
  {
   "cell_type": "code",
   "execution_count": null,
   "metadata": {},
   "outputs": [
    {
     "data": {
      "text/plain": [
       "<pptk.viewer.viewer.viewer at 0x7fc5a75f64a8>"
      ]
     },
     "execution_count": 21,
     "metadata": {},
     "output_type": "execute_result"
    }
   ],
   "source": [
    "pptk.viewer(point_clouds[0,:,:])"
   ]
  },
  {
   "attachments": {},
   "cell_type": "markdown",
   "metadata": {},
   "source": [
    "### Format: binary | Package: pptk"
   ]
  },
  {
   "cell_type": "code",
   "execution_count": null,
   "metadata": {},
   "outputs": [
    {
     "name": "stdout",
     "output_type": "stream",
     "text": [
      "(19669, 4)\n"
     ]
    },
    {
     "data": {
      "text/plain": [
       "<pptk.viewer.viewer.viewer at 0x7fc5a761ba90>"
      ]
     },
     "execution_count": 22,
     "metadata": {},
     "output_type": "execute_result"
    }
   ],
   "source": [
    "pc_bin = np.fromfile('./data/kitti_007517.bin', '<f4')\n",
    "pc_bin = np.reshape(pc_bin, (-1, 4))\n",
    "print(pc_bin.shape)\n",
    "pptk.viewer(pc_bin[:, :3])"
   ]
  },
  {
   "attachments": {},
   "cell_type": "markdown",
   "metadata": {},
   "source": [
    "### Format: txt | Package: pptk"
   ]
  },
  {
   "cell_type": "code",
   "execution_count": null,
   "metadata": {},
   "outputs": [],
   "source": [
    "pc_txt = np.loadtxt('./data/modelnet40_airplane_0001.txt', delimiter=',')"
   ]
  },
  {
   "cell_type": "code",
   "execution_count": null,
   "metadata": {},
   "outputs": [
    {
     "name": "stdout",
     "output_type": "stream",
     "text": [
      "Shape of the point cloud: (10000, 6)\n"
     ]
    }
   ],
   "source": [
    "print('Shape of the point cloud:', pc_txt.shape)\n",
    "points = pc_txt[:,:3]\n",
    "colors = pc_txt[:,3:]\n",
    "vis = pptk.viewer(points, colors) # Start the interactive visualization"
   ]
  },
  {
   "attachments": {},
   "cell_type": "markdown",
   "metadata": {},
   "source": [
    "### Format: txt | Package: Open3D"
   ]
  },
  {
   "cell_type": "code",
   "execution_count": null,
   "metadata": {},
   "outputs": [],
   "source": [
    "pcd = o3d.geometry.PointCloud()\n",
    "pcd.points = o3d.utility.Vector3dVector(points)\n",
    "pcd.colors = o3d.utility.Vector3dVector(colors)"
   ]
  },
  {
   "cell_type": "code",
   "execution_count": null,
   "metadata": {},
   "outputs": [],
   "source": [
    "# visualization\n",
    "o3d.visualization.draw_geometries([pcd])"
   ]
  },
  {
   "attachments": {},
   "cell_type": "markdown",
   "metadata": {},
   "source": [
    "Data References:\n",
    "1. PLY file: https://github.com/HuangCongQing/Point-Clouds-Visualization/blob/master/2open3D/data/fragment.ply\n",
    "2. pcd file: https://github.com/PointCloudLibrary/data/tree/master/terrain\n",
    "3. ShapeNet: https://shapenet.org/\n",
    "4. ScanObjectNN: https://hkust-vgd.github.io/scanobjectnn/\n",
    "5. KITTI data: http://www.cvlibs.net/datasets/kitti/index.php\n",
    "6. las file: vegetation_1_3.las: https://github.com/laspy/laspy/blob/master/tests/data/vegetation_1_3.las\n",
    "7. laz file: https://github.com/laspy/laspy/blob/master/tests/data/plane.laz\n",
    "8. ModelNet40: https://modelnet.cs.princeton.edu/"
   ]
  }
 ],
 "metadata": {
  "kernelspec": {
   "display_name": "Python 3.6.13 ('LCV_PC_VIS')",
   "language": "python",
   "name": "python3"
  },
  "language_info": {
   "codemirror_mode": {
    "name": "ipython",
    "version": 3
   },
   "file_extension": ".py",
   "mimetype": "text/x-python",
   "name": "python",
   "nbconvert_exporter": "python",
   "pygments_lexer": "ipython3",
   "version": "3.11.0"
  },
  "vscode": {
   "interpreter": {
    "hash": "d74db5148e1a68dcf7f06745f9dc6b91b0a1ff672d76fc3644db7b9b719f5d2c"
   }
  }
 },
 "nbformat": 4,
 "nbformat_minor": 2
}
